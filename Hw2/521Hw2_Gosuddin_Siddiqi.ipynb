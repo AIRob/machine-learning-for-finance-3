{
 "cells": [
  {
   "cell_type": "markdown",
   "metadata": {},
   "source": [
    "# Homework 2 Validation\n",
    "**Due Date: 10/30/2017**\n",
    "\n",
    "Name: Gosuddin Siddiqi<br>\n",
    "Student Number: 1627383"
   ]
  },
  {
   "cell_type": "code",
   "execution_count": 2,
   "metadata": {},
   "outputs": [],
   "source": [
    "# import PyPlot to plot\n",
    "using PyPlot"
   ]
  },
  {
   "cell_type": "markdown",
   "metadata": {},
   "source": [
    "## Load Data and Define Functions"
   ]
  },
  {
   "cell_type": "code",
   "execution_count": 3,
   "metadata": {},
   "outputs": [
    {
     "data": {
      "text/plain": [
       "logloss (generic function with 1 method)"
      ]
     },
     "execution_count": 3,
     "metadata": {},
     "output_type": "execute_result"
    }
   ],
   "source": [
    "# function that read data\n",
    "function readdata(filename, datatype, dsize)\n",
    "    fid = open(filename, \"r\");\n",
    "    data = read(fid, datatype, dsize);\n",
    "    close(fid);\n",
    "    return data\n",
    "end\n",
    "# function used for model assessment\n",
    "function logloss(x, f, s)\n",
    "    r = f*x;\n",
    "    val = 0.0;\n",
    "    for I in eachindex(r)\n",
    "        p = 1.0/(1.0+exp(-r[I]));\n",
    "        s[I] == 1 ? val += -log(p) : val += -log(1-p);\n",
    "    end\n",
    "    return val/length(s)\n",
    "end"
   ]
  },
  {
   "cell_type": "code",
   "execution_count": 4,
   "metadata": {},
   "outputs": [],
   "source": [
    "# read data\n",
    "n_features = 50;\n",
    "m_train = 2000;\n",
    "m_validate = 500;\n",
    "m_test = 500;\n",
    "\n",
    "train_f = readdata(\"numerai_datasets/train_features.bin\", Float64, m_train*n_features);\n",
    "train_s = readdata(\"numerai_datasets/train_target.bin\", Float64, m_train);\n",
    "validate_f = readdata(\"numerai_datasets/validate_features.bin\", Float64, m_validate*n_features);\n",
    "validate_s = readdata(\"numerai_datasets/validate_target.bin\", Float64, m_validate);\n",
    "test_f = readdata(\"numerai_datasets/test_features.bin\", Float64, m_test*n_features);\n",
    "test_s = readdata(\"numerai_datasets/test_target.bin\", Float64, m_test);\n",
    "\n",
    "train_f = reshape(train_f, m_train, n_features);\n",
    "validate_f = reshape(validate_f, m_validate, n_features);\n",
    "test_f = reshape(test_f, m_test, n_features);\n",
    "\n",
    "train_f = train_f./sqrt(sumabs2(train_f,1));\n",
    "validate_f = validate_f./sqrt(sumabs2(validate_f,1));\n",
    "test_f = test_f./sqrt(sumabs2(test_f,1));"
   ]
  },
  {
   "cell_type": "markdown",
   "metadata": {},
   "source": [
    "## Define Function for Smooth Part of Logistic Regression\n",
    "$$\\text{lgr}(x) = \\sum_{i=1}^m\\left\\{\\log\\left(1+\\exp{\\left\\langle f_i, x\\right\\rangle}\\right) - s_i\\left\\langle f_i,x\\right\\rangle\\right\\}$$"
   ]
  },
  {
   "cell_type": "code",
   "execution_count": 5,
   "metadata": {},
   "outputs": [
    {
     "data": {
      "text/plain": [
       "lgr_hess (generic function with 1 method)"
      ]
     },
     "execution_count": 5,
     "metadata": {},
     "output_type": "execute_result"
    }
   ],
   "source": [
    "function lgr_func(x, f, s)\n",
    "    # TODO: define function of logistic regression\n",
    "    r = f*x;\n",
    "    summed = sum(log(1+exp(r)) - dot(s,r));\n",
    "    return summed\n",
    "    \n",
    "end\n",
    "\n",
    "function lgr_grad(x, f, s)\n",
    "    # TODO: define gradient of logistic regression\n",
    "    g = zeros(x);\n",
    "    r =f*x;\n",
    "    g = transpose(f)*(1.0 ./ (1.0 + exp(-r)) - s) ;\n",
    "    \n",
    "    return g\n",
    "end\n",
    "\n",
    "function lgr_hess(x, f, s)\n",
    "    # TODO: define Hessian of logistic regression\n",
    "    #H = zeros(x);\n",
    "    r = f*x;\n",
    "    sig = (1.0 ./ (1.0 + exp(-r)));\n",
    "    d_sig = sig .* (1-sig);\n",
    "    H = transpose(f) * (diagm(d_sig)* f);\n",
    "    return H\n",
    "end"
   ]
  },
  {
   "cell_type": "markdown",
   "metadata": {},
   "source": [
    "## Problem 3: Newton's Method\n",
    "Fill in the blanks to implement Newton algorithm to solve logistic regression problem,\n",
    "$$\\min_x f_{\\ell_2}(x):= \\sum_{i=1}^m\\left\\{\\log\\left(1+\\exp{\\left\\langle f_i, x\\right\\rangle}\\right) - s_i\\left\\langle f_i,x\\right\\rangle\\right\\} + \\frac{\\lambda}{2}\\|x\\|^2$$\n",
    "where $s_i\\in\\{0,1\\}$ indicate the buy or sell.\n",
    "\n",
    "For this problem we will use real data come from [Numerai](https://numer.ai/leaderboard).\n",
    "The data set consist of three parts, train data, validation data and test data."
   ]
  },
  {
   "cell_type": "markdown",
   "metadata": {},
   "source": [
    "### Train and Validate Data"
   ]
  },
  {
   "cell_type": "code",
   "execution_count": 6,
   "metadata": {},
   "outputs": [
    {
     "data": {
      "text/plain": [
       "lgr_l2_hess (generic function with 1 method)"
      ]
     },
     "execution_count": 6,
     "metadata": {},
     "output_type": "execute_result"
    }
   ],
   "source": [
    "# define functions\n",
    "function lgr_l2_func(x, f, s, λ)\n",
    "    # TODO: define f_l2(x)\n",
    "    return lgr_func(x,f,s) + 0.5*norm(x,2)\n",
    "end\n",
    "\n",
    "function lgr_l2_grad(x, f, s, λ)\n",
    "    # TODO: define ∇f_l2(x)\n",
    "    return lgr_grad(x,f,s) + λ*x\n",
    "end\n",
    "\n",
    "function lgr_l2_hess(x, f, s, λ)\n",
    "    # TODO: define ∇²f_l2(x)\n",
    "    return lgr_hess(x, f, s) + λ*eye(length(x))\n",
    "end"
   ]
  },
  {
   "cell_type": "code",
   "execution_count": 7,
   "metadata": {},
   "outputs": [
    {
     "data": {
      "text/plain": [
       "Newton (generic function with 1 method)"
      ]
     },
     "execution_count": 7,
     "metadata": {},
     "output_type": "execute_result"
    }
   ],
   "source": [
    "# build solver function\n",
    "# define Newton Solver\n",
    "function Newton(x, f, s, λ; itm = 100, tol = 1e-6)\n",
    "    g = lgr_l2_grad(x, train_f, train_s, λ);\n",
    "    H = lgr_l2_hess(x, train_f, train_s, λ);\n",
    "    obj = 0.0;\n",
    "    err = 1.0;\n",
    "    for iter = 1:itm\n",
    "        # TODO: implement Newton's Step\n",
    "        # ...\n",
    "        m_term = inv(H) * g;\n",
    "        x = x - m_term;\n",
    "        g = lgr_l2_grad(x, train_f, train_s, λ);\n",
    "        H = lgr_l2_hess(x, train_f, train_s, λ);\n",
    "        obj = lgr_l2_func(x, train_f, train_s, λ);\n",
    "        err = vecnorm(g);\n",
    "        @printf(\"iter %d, obj %1.5e, err %1.5e\\n\", iter, obj, err);\n",
    "        err < tol && break;\n",
    "    end\n",
    "    return x\n",
    "end"
   ]
  },
  {
   "cell_type": "code",
   "execution_count": 8,
   "metadata": {},
   "outputs": [
    {
     "name": "stdout",
     "output_type": "stream",
     "text": [
      "λ1 = 0.01=====================\n",
      "iter 1, obj -7.28775e+03, err 2.74014e-02\n",
      "iter 2, obj -7.04785e+03, err 5.88346e-06\n",
      "iter 3, obj -7.04778e+03, err 2.27254e-13\n",
      "λ1 = 0.00955=====================\n",
      "iter 1, obj -8.38796e+03, err 9.78263e-06\n",
      "iter 2, obj -8.38801e+03, err 1.38371e-12\n",
      "λ1 = 0.0091=====================\n",
      "iter 1, obj -9.80658e+03, err 1.08356e-05\n",
      "iter 2, obj -9.80665e+03, err 1.77843e-12\n",
      "λ1 = 0.00865=====================\n",
      "iter 1, obj -1.13120e+04, err 1.20434e-05\n",
      "iter 2, obj -1.13121e+04, err 2.29870e-12\n",
      "λ1 = 0.0082=====================\n",
      "iter 1, obj -1.29141e+04, err 1.34345e-05\n",
      "iter 2, obj -1.29142e+04, err 3.00787e-12\n",
      "λ1 = 0.00775=====================\n",
      "iter 1, obj -1.46241e+04, err 1.50437e-05\n",
      "iter 2, obj -1.46243e+04, err 3.98472e-12\n",
      "λ1 = 0.0073=====================\n",
      "iter 1, obj -1.64557e+04, err 1.69139e-05\n",
      "iter 2, obj -1.64559e+04, err 5.35237e-12\n",
      "λ1 = 0.00685=====================\n",
      "iter 1, obj -1.84249e+04, err 1.90978e-05\n",
      "iter 2, obj -1.84251e+04, err 7.29270e-12\n",
      "λ1 = 0.0064=====================\n",
      "iter 1, obj -2.05509e+04, err 2.16609e-05\n",
      "iter 2, obj -2.05512e+04, err 1.00989e-11\n",
      "λ1 = 0.00595=====================\n",
      "iter 1, obj -2.28573e+04, err 2.46851e-05\n",
      "iter 2, obj -2.28577e+04, err 1.42525e-11\n",
      "λ1 = 0.0055=====================\n",
      "iter 1, obj -2.53728e+04, err 2.82732e-05\n",
      "iter 2, obj -2.53734e+04, err 2.05158e-11\n",
      "λ1 = 0.00505=====================\n",
      "iter 1, obj -2.81336e+04, err 3.25560e-05\n",
      "iter 2, obj -2.81343e+04, err 3.02116e-11\n",
      "λ1 = 0.0046=====================\n",
      "iter 1, obj -3.11854e+04, err 3.77023e-05\n",
      "iter 2, obj -3.11865e+04, err 4.56135e-11\n",
      "λ1 = 0.00415=====================\n",
      "iter 1, obj -3.45877e+04, err 4.39371e-05\n",
      "iter 2, obj -3.45892e+04, err 7.08815e-11\n",
      "λ1 = 0.0037=====================\n",
      "iter 1, obj -3.84192e+04, err 5.15770e-05\n",
      "iter 2, obj -3.84214e+04, err 1.13786e-10\n",
      "λ1 = 0.00325=====================\n",
      "iter 1, obj -4.27877e+04, err 6.11184e-05\n",
      "iter 2, obj -4.27909e+04, err 1.89651e-10\n",
      "λ1 = 0.0028=====================\n",
      "iter 1, obj -4.78453e+04, err 7.34831e-05\n",
      "iter 2, obj -4.78502e+04, err 3.30297e-10\n",
      "λ1 = 0.00235=====================\n",
      "iter 1, obj -5.38175e+04, err 9.07776e-05\n",
      "iter 2, obj -5.38253e+04, err 6.06433e-10\n",
      "λ1 = 0.0019=====================\n",
      "iter 1, obj -6.10582e+04, err 1.18709e-04\n",
      "iter 2, obj -6.10715e+04, err 1.19417e-09\n",
      "λ1 = 0.00145=====================\n",
      "iter 1, obj -7.01696e+04, err 1.73846e-04\n",
      "iter 2, obj -7.01941e+04, err 2.67014e-09\n",
      "λ1 = 0.001=====================\n",
      "iter 1, obj -8.23066e+04, err 3.03052e-04\n",
      "iter 2, obj -8.23578e+04, err 8.64600e-09\n"
     ]
    }
   ],
   "source": [
    "λ1_set = collect(linspace(0.01,0.001,21));\n",
    "x1_set = [zeros(n_features) for i = 1:length(λ1_set)];\n",
    "v1_set = zeros(length(λ1_set));\n",
    "for i = 1:length(λ1_set)\n",
    "    λ1 = λ1_set[i];\n",
    "    x1 = x1_set[i];\n",
    "    i > 1 && copy!(x1, x1_set[i-1]);\n",
    "    println(\"λ1 = \", λ1, \"=====================\");\n",
    "    copy!(x1, Newton(x1, train_f, train_s, λ1));\n",
    "    v1_set[i] = logloss(x1, validate_f, validate_s);\n",
    "end"
   ]
  },
  {
   "cell_type": "code",
   "execution_count": 9,
   "metadata": {},
   "outputs": [
    {
     "data": {
      "image/png": "[encoded data removed]",
      "text/plain": [
       "PyPlot.Figure(PyObject <matplotlib.figure.Figure object at 0x7f3cd6c8f390>)"
      ]
     },
     "metadata": {},
     "output_type": "display_data"
    },
    {
     "data": {
      "text/plain": [
       "1-element Array{Any,1}:\n",
       " PyObject <matplotlib.lines.Line2D object at 0x7f3ccfc82190>"
      ]
     },
     "execution_count": 9,
     "metadata": {},
     "output_type": "execute_result"
    }
   ],
   "source": [
    "# plot validation\n",
    "plot(λ1_set, v1_set)"
   ]
  },
  {
   "cell_type": "code",
   "execution_count": 10,
   "metadata": {},
   "outputs": [
    {
     "name": "stdout",
     "output_type": "stream",
     "text": [
      "λ1 = 0.0037\n"
     ]
    }
   ],
   "source": [
    "ind = indmin(v1_set);\n",
    "λ1 = λ1_set[ind];\n",
    "x1 = x1_set[ind];\n",
    "@show λ1;"
   ]
  },
  {
   "cell_type": "markdown",
   "metadata": {},
   "source": [
    "### Test Data"
   ]
  },
  {
   "cell_type": "code",
   "execution_count": 11,
   "metadata": {},
   "outputs": [
    {
     "name": "stdout",
     "output_type": "stream",
     "text": [
      "logloss(x1,test_f,test_s) = 0.6964267561491205\n"
     ]
    }
   ],
   "source": [
    "@show logloss(x1, test_f, test_s);"
   ]
  },
  {
   "cell_type": "markdown",
   "metadata": {},
   "source": [
    "## Problem 4: FISTA\n",
    "Fill in the blanks to implement the FISTA algorithm to solve logistic regression problem,\n",
    "$$\\min_x \\sum_{i=1}^m\\left\\{\\log\\left(1+\\exp{\\left\\langle f_i, x\\right\\rangle}\\right) - s_i\\left\\langle f_i,x\\right\\rangle\\right\\} + \\lambda g(x)$$\n",
    "Choose your favorite $g$ and try to get the test error as low as possible."
   ]
  },
  {
   "cell_type": "code",
   "execution_count": 18,
   "metadata": {},
   "outputs": [
    {
     "name": "stderr",
     "output_type": "stream",
     "text": [
      "WARNING: Method definition lgr_g_func(Any, Any, Any, Any) in module Main at In[13]:4 overwritten at In[18]:4.\n",
      "WARNING: Method definition prox_g(Any, Any) in module Main at In[13]:9 overwritten at In[18]:9.\n"
     ]
    },
    {
     "data": {
      "text/plain": [
       "prox_g (generic function with 1 method)"
      ]
     },
     "execution_count": 18,
     "metadata": {},
     "output_type": "execute_result"
    }
   ],
   "source": [
    "# Define functions\n",
    "function lgr_g_func(x, f, s, λ)\n",
    "    # TODO: pick your g and give your function\n",
    "    return lgr_func(x, f, s) + λ*(0.5*norm(x,1) + 0.5*norm(x,2))\n",
    "end\n",
    "\n",
    "function prox_g(x, κ)\n",
    "    # TODO: implement prox of g\n",
    "    for I in eachindex(x)\n",
    "        if x[I] > (0.5*κ)\n",
    "            x[I] = (x[I]-(0.5*κ))/(1.0 + κ)\n",
    "        elseif x[I] <(-0.5*κ) \n",
    "            x[I] = (x[I]+(0.5*κ))/(1.0 + κ) \n",
    "        else\n",
    "            x[I] = 0.0;\n",
    "        end\n",
    "    end\n",
    "end"
   ]
  },
  {
   "cell_type": "code",
   "execution_count": 28,
   "metadata": {},
   "outputs": [
    {
     "name": "stderr",
     "output_type": "stream",
     "text": [
      "WARNING: Method definition FISTA(Any, Any, Any, Any, Any, Any) in module Main at In[23]:5 overwritten at In[28]:5.\n",
      "WARNING: Method definition #FISTA(Array{Any, 1}, Main.#FISTA, Any, Any, Any, Any, Any, Any) in module Main overwritten.\n"
     ]
    },
    {
     "data": {
      "text/plain": [
       "FISTA (generic function with 1 method)"
      ]
     },
     "execution_count": 28,
     "metadata": {},
     "output_type": "execute_result"
    }
   ],
   "source": [
    "# define solvers\n",
    "function FISTA(x, f, s, λ, func, prox; itm = 200, tol = 1e-6, pf = 1000)\n",
    "    # TODO: Implement FISTA algorithm\n",
    "    #step 1: initialize\n",
    "    y  = copy(x);\n",
    "    y_1 = copy(y);\n",
    "    a  = 1.0;\n",
    "    step_size  = (4.0/(norm(f,2)^2));\n",
    "    g  = lgr_grad(x, f, s);\n",
    "    obj = 0.0;\n",
    "    err = 1.0;\n",
    "    \n",
    "    #step 2: until converge\n",
    "    for i = 1:itm\n",
    "       \n",
    "        #step 3 : next value\n",
    "        y = x - (step_size*g);\n",
    "        prox(y, λ*step_size); \n",
    "        \n",
    "        #step 4: compute alpha / second term\n",
    "        a_next = 0.5*(1.0 + sqrt(1.0 + 4.0*a^2));\n",
    "        sec_term  = (a - 1.0)/a_next;\n",
    "        \n",
    "        #step 5:\n",
    "        for I in eachindex(x)\n",
    "            x[I] = y[I] + sec_term*(y[I] - y_1[I]);\n",
    "        end\n",
    "        \n",
    "        \n",
    "        obj = func(x, f, s, λ);\n",
    "        err = vecnorm(y - y_1);\n",
    "        g   = lgr_grad(x, f, s);\n",
    "        \n",
    "        #step 6:\n",
    "        a   = a_next;\n",
    "        y_1 = copy(y);\n",
    "        i % pf == 0 && @printf(\"iter %d, obj %1.5e, err %1.5e\\n\", i, obj, err);\n",
    "        err < tol && break;\n",
    "    end\n",
    "    \n",
    "    #output\n",
    "    return x\n",
    "end"
   ]
  },
  {
   "cell_type": "code",
   "execution_count": 29,
   "metadata": {},
   "outputs": [
    {
     "name": "stdout",
     "output_type": "stream",
     "text": [
      "λ2 = 0.01=====================\n",
      "iter 1000, obj -4.96331e+03, err 3.48418e-03\n",
      "iter 2000, obj -4.91433e+03, err 6.07819e-04\n",
      "iter 3000, obj -4.91511e+03, err 2.12622e-04\n",
      "iter 4000, obj -4.91448e+03, err 7.90038e-05\n",
      "iter 5000, obj -4.91393e+03, err 3.10798e-05\n",
      "iter 6000, obj -4.91439e+03, err 1.80256e-05\n",
      "iter 7000, obj -4.91431e+03, err 8.58214e-06\n",
      "iter 8000, obj -4.91433e+03, err 3.69893e-06\n",
      "iter 9000, obj -4.91434e+03, err 2.19612e-06\n",
      "λ2 = 0.0022=====================\n",
      "iter 1000, obj -7.74146e+03, err 2.92822e-04\n",
      "iter 2000, obj -7.74459e+03, err 5.47579e-05\n",
      "iter 3000, obj -7.74412e+03, err 2.21950e-05\n",
      "iter 4000, obj -7.74414e+03, err 9.78832e-06\n",
      "iter 5000, obj -7.74418e+03, err 3.94446e-06\n",
      "iter 6000, obj -7.74417e+03, err 1.92656e-06\n",
      "λ2 = 0.0017=====================\n",
      "iter 1000, obj -1.09263e+04, err 3.47383e-04\n",
      "iter 2000, obj -1.09338e+04, err 6.34329e-05\n",
      "iter 3000, obj -1.09340e+04, err 3.19046e-05\n",
      "iter 4000, obj -1.09342e+04, err 1.22347e-05\n",
      "iter 5000, obj -1.09340e+04, err 6.19023e-06\n",
      "iter 6000, obj -1.09340e+04, err 2.79286e-06\n",
      "iter 7000, obj -1.09340e+04, err 1.46010e-06\n",
      "λ2 = 0.0067=====================\n",
      "iter 1000, obj -1.45645e+04, err 5.16668e-04\n",
      "iter 2000, obj -1.45659e+04, err 1.04448e-04\n",
      "iter 3000, obj -1.45664e+04, err 4.59760e-05\n",
      "iter 4000, obj -1.45666e+04, err 1.82578e-05\n",
      "iter 5000, obj -1.45665e+04, err 8.67258e-06\n",
      "iter 6000, obj -1.45664e+04, err 5.30318e-06\n",
      "iter 7000, obj -1.45664e+04, err 2.62202e-06\n",
      "iter 8000, obj -1.45664e+04, err 1.21342e-06\n",
      "λ2 = 0.0064=====================\n",
      "iter 1000, obj -1.87799e+04, err 5.20292e-04\n",
      "iter 2000, obj -1.87673e+04, err 1.54741e-04\n",
      "iter 3000, obj -1.87659e+04, err 4.79372e-05\n",
      "iter 4000, obj -1.87657e+04, err 2.36823e-05\n",
      "iter 5000, obj -1.87658e+04, err 1.40382e-05\n",
      "iter 6000, obj -1.87658e+04, err 7.97089e-06\n",
      "iter 7000, obj -1.87658e+04, err 4.90060e-06\n",
      "iter 8000, obj -1.87657e+04, err 3.15911e-06\n",
      "λ2 = 0.0048=====================\n",
      "iter 1000, obj -2.37231e+04, err 8.94852e-04\n",
      "iter 2000, obj -2.37077e+04, err 1.90575e-04\n",
      "iter 3000, obj -2.37116e+04, err 8.88216e-05\n",
      "iter 4000, obj -2.37110e+04, err 4.15456e-05\n",
      "iter 5000, obj -2.37109e+04, err 2.22423e-05\n",
      "iter 6000, obj -2.37110e+04, err 1.35332e-05\n",
      "iter 7000, obj -2.37110e+04, err 5.10043e-06\n",
      "iter 8000, obj -2.37110e+04, err 5.83994e-06\n",
      "iter 9000, obj -2.37110e+04, err 2.26020e-06\n",
      "iter 10000, obj -2.37110e+04, err 1.88320e-06\n",
      "iter 11000, obj -2.37110e+04, err 1.16402e-06\n",
      "λ2 = 0.0017=====================\n",
      "iter 1000, obj -2.96300e+04, err 7.16406e-04\n",
      "iter 2000, obj -2.96700e+04, err 2.23451e-04\n",
      "iter 3000, obj -2.96605e+04, err 1.02040e-04\n",
      "iter 4000, obj -2.96634e+04, err 6.69358e-05\n",
      "iter 5000, obj -2.96632e+04, err 3.51298e-05\n",
      "iter 6000, obj -2.96628e+04, err 2.27266e-05\n",
      "iter 7000, obj -2.96631e+04, err 1.22640e-05\n",
      "iter 8000, obj -2.96629e+04, err 7.38726e-06\n",
      "iter 9000, obj -2.96630e+04, err 4.37935e-06\n",
      "iter 10000, obj -2.96630e+04, err 3.02432e-06\n",
      "iter 11000, obj -2.96630e+04, err 2.58401e-06\n",
      "iter 12000, obj -2.96630e+04, err 1.75192e-06\n",
      "λ2 = 0.0018=====================\n",
      "iter 1000, obj -3.70279e+04, err 1.79286e-03\n",
      "iter 2000, obj -3.70435e+04, err 3.73208e-04\n",
      "iter 3000, obj -3.70482e+04, err 1.76567e-04\n",
      "iter 4000, obj -3.70508e+04, err 1.15996e-04\n",
      "iter 5000, obj -3.70510e+04, err 6.60232e-05\n",
      "iter 6000, obj -3.70511e+04, err 3.41627e-05\n",
      "iter 7000, obj -3.70509e+04, err 2.16614e-05\n",
      "iter 8000, obj -3.70507e+04, err 1.94716e-05\n",
      "iter 9000, obj -3.70506e+04, err 1.06183e-05\n",
      "iter 10000, obj -3.70506e+04, err 5.96377e-06\n",
      "iter 11000, obj -3.70506e+04, err 5.62018e-06\n",
      "iter 12000, obj -3.70507e+04, err 4.48542e-06\n",
      "iter 13000, obj -3.70507e+04, err 3.18898e-06\n",
      "iter 14000, obj -3.70507e+04, err 1.76933e-06\n",
      "iter 15000, obj -3.70507e+04, err 1.76986e-06\n",
      "iter 16000, obj -3.70507e+04, err 1.27625e-06\n",
      "λ2 = 0.0028=====================\n",
      "iter 1000, obj -4.67315e+04, err 2.17250e-03\n",
      "iter 2000, obj -4.66820e+04, err 7.80154e-04\n",
      "iter 3000, obj -4.66805e+04, err 3.82924e-04\n",
      "iter 4000, obj -4.66791e+04, err 1.43140e-04\n",
      "iter 5000, obj -4.66793e+04, err 1.07741e-04\n",
      "iter 6000, obj -4.66804e+04, err 6.98752e-05\n",
      "iter 7000, obj -4.66809e+04, err 4.43126e-05\n",
      "iter 8000, obj -4.66806e+04, err 3.50756e-05\n",
      "iter 9000, obj -4.66803e+04, err 2.33996e-05\n",
      "iter 10000, obj -4.66803e+04, err 1.37004e-05\n",
      "iter 11000, obj -4.66804e+04, err 1.46324e-05\n",
      "iter 12000, obj -4.66804e+04, err 1.10679e-05\n",
      "iter 13000, obj -4.66804e+04, err 5.71677e-06\n",
      "iter 14000, obj -4.66804e+04, err 6.13203e-06\n",
      "iter 15000, obj -4.66803e+04, err 5.07511e-06\n",
      "iter 16000, obj -4.66803e+04, err 3.49091e-06\n",
      "iter 17000, obj -4.66803e+04, err 2.88351e-06\n",
      "iter 18000, obj -4.66804e+04, err 2.16044e-06\n",
      "iter 19000, obj -4.66804e+04, err 1.30512e-06\n",
      "iter 20000, obj -4.66804e+04, err 1.30555e-06\n",
      "λ2 = 0.0055=====================\n",
      "iter 1000, obj -6.00573e+04, err 4.65533e-03\n",
      "iter 2000, obj -6.01305e+04, err 1.39105e-03\n",
      "iter 3000, obj -6.01167e+04, err 6.02616e-04\n",
      "iter 4000, obj -6.01232e+04, err 2.94005e-04\n",
      "iter 5000, obj -6.01209e+04, err 2.19050e-04\n",
      "iter 6000, obj -6.01232e+04, err 1.52148e-04\n",
      "iter 7000, obj -6.01200e+04, err 1.00331e-04\n",
      "iter 8000, obj -6.01229e+04, err 8.54664e-05\n",
      "iter 9000, obj -6.01212e+04, err 6.30733e-05\n",
      "iter 10000, obj -6.01219e+04, err 4.83493e-05\n",
      "iter 11000, obj -6.01216e+04, err 3.75364e-05\n",
      "iter 12000, obj -6.01218e+04, err 2.95071e-05\n",
      "iter 13000, obj -6.01217e+04, err 2.47181e-05\n",
      "iter 14000, obj -6.01216e+04, err 1.94246e-05\n",
      "iter 15000, obj -6.01219e+04, err 1.57973e-05\n",
      "iter 16000, obj -6.01216e+04, err 1.30001e-05\n",
      "iter 17000, obj -6.01218e+04, err 9.62418e-06\n",
      "iter 18000, obj -6.01216e+04, err 7.89533e-06\n",
      "iter 19000, obj -6.01217e+04, err 5.76120e-06\n",
      "iter 20000, obj -6.01216e+04, err 4.90558e-06\n",
      "iter 21000, obj -6.01217e+04, err 4.50702e-06\n",
      "iter 22000, obj -6.01216e+04, err 3.62404e-06\n",
      "iter 23000, obj -6.01217e+04, err 3.14354e-06\n",
      "iter 24000, obj -6.01217e+04, err 2.60512e-06\n",
      "iter 25000, obj -6.01217e+04, err 2.13682e-06\n",
      "iter 26000, obj -6.01217e+04, err 1.66912e-06\n",
      "iter 27000, obj -6.01217e+04, err 1.58345e-06\n",
      "iter 28000, obj -6.01217e+04, err 1.73890e-06\n",
      "iter 29000, obj -6.01217e+04, err 1.34181e-06\n",
      "λ2 = 0.009=====================\n",
      "iter 1000, obj -8.16797e+04, err 1.18193e-02\n",
      "iter 2000, obj -8.16850e+04, err 3.67919e-03\n",
      "iter 3000, obj -8.17108e+04, err 1.61130e-03\n",
      "iter 4000, obj -8.17128e+04, err 8.44673e-04\n",
      "iter 5000, obj -8.17175e+04, err 6.48590e-04\n",
      "iter 6000, obj -8.17194e+04, err 5.26295e-04\n",
      "iter 7000, obj -8.17220e+04, err 3.52014e-04\n",
      "iter 8000, obj -8.17240e+04, err 2.33769e-04\n",
      "iter 9000, obj -8.17240e+04, err 1.76007e-04\n",
      "iter 10000, obj -8.17240e+04, err 1.44495e-04\n",
      "iter 11000, obj -8.17239e+04, err 1.39990e-04\n",
      "iter 12000, obj -8.17231e+04, err 1.03294e-04\n",
      "iter 13000, obj -8.17238e+04, err 8.36509e-05\n",
      "iter 14000, obj -8.17230e+04, err 7.80787e-05\n",
      "iter 15000, obj -8.17227e+04, err 7.19801e-05\n",
      "iter 16000, obj -8.17231e+04, err 6.13614e-05\n",
      "iter 17000, obj -8.17232e+04, err 4.43119e-05\n",
      "iter 18000, obj -8.17235e+04, err 3.70510e-05\n",
      "iter 19000, obj -8.17235e+04, err 3.35772e-05\n",
      "iter 20000, obj -8.17234e+04, err 2.90897e-05\n",
      "iter 21000, obj -8.17232e+04, err 2.49214e-05\n",
      "iter 22000, obj -8.17232e+04, err 1.97843e-05\n",
      "iter 23000, obj -8.17231e+04, err 1.54629e-05\n",
      "iter 24000, obj -8.17231e+04, err 1.84611e-05\n",
      "iter 25000, obj -8.17231e+04, err 1.60939e-05\n",
      "iter 26000, obj -8.17232e+04, err 1.31425e-05\n",
      "iter 27000, obj -8.17232e+04, err 1.41365e-05\n",
      "iter 28000, obj -8.17233e+04, err 1.24731e-05\n",
      "iter 29000, obj -8.17233e+04, err 1.12305e-05\n",
      "iter 30000, obj -8.17232e+04, err 9.30590e-06\n",
      "iter 31000, obj -8.17233e+04, err 6.85990e-06\n",
      "iter 32000, obj -8.17232e+04, err 6.06486e-06\n",
      "iter 33000, obj -8.17232e+04, err 6.06065e-06\n",
      "iter 34000, obj -8.17232e+04, err 5.63553e-06\n",
      "iter 35000, obj -8.17232e+04, err 4.25159e-06\n",
      "iter 36000, obj -8.17232e+04, err 4.15351e-06\n",
      "iter 37000, obj -8.17232e+04, err 4.46755e-06\n",
      "iter 38000, obj -8.17232e+04, err 4.22413e-06\n",
      "iter 39000, obj -8.17232e+04, err 3.78554e-06\n",
      "iter 40000, obj -8.17232e+04, err 3.57880e-06\n",
      "iter 41000, obj -8.17232e+04, err 2.99782e-06\n",
      "iter 42000, obj -8.17232e+04, err 3.21411e-06\n",
      "iter 43000, obj -8.17232e+04, err 2.95962e-06\n",
      "iter 44000, obj -8.17232e+04, err 1.80402e-06\n",
      "iter 45000, obj -8.17232e+04, err 1.61916e-06\n",
      "iter 46000, obj -8.17232e+04, err 1.46191e-06\n",
      "iter 47000, obj -8.17232e+04, err 1.35756e-06\n"
     ]
    },
    {
     "name": "stdout",
     "output_type": "stream",
     "text": [
      "iter 48000, obj -8.17232e+04, err 1.59264e-06\n",
      "iter 49000, obj -8.17232e+04, err 1.39857e-06\n"
     ]
    }
   ],
   "source": [
    "λ2_set = collect(linspace(0.01,0.001,11));\n",
    "x2_set = [zeros(n_features) for i = 1:length(λ2_set)];\n",
    "v2_set = zeros(length(λ2_set));\n",
    "xcopy = zeros(n_features);\n",
    "for i = 1:length(λ2_set)\n",
    "    λ2 = λ2_set[i];\n",
    "    x2 = x2_set[i];\n",
    "    i > 1 && copy!(x2, x2_set[i-1]);\n",
    "    println(\"λ2 = \", λ2, \"=====================\");\n",
    "    FISTA(x2, train_f, train_s, λ2, lgr_g_func, prox_g; itm=100000, tol=1e-6, pf = 1000);\n",
    "    v2_set[i] = logloss(x2, validate_f, validate_s);\n",
    "end"
   ]
  },
  {
   "cell_type": "code",
   "execution_count": 30,
   "metadata": {},
   "outputs": [
    {
     "data": {
      "image/png": "[encoded data removed]",
      "text/plain": [
       "PyPlot.Figure(PyObject <matplotlib.figure.Figure object at 0x7f3ccf91bb10>)"
      ]
     },
     "metadata": {},
     "output_type": "display_data"
    },
    {
     "data": {
      "text/plain": [
       "1-element Array{Any,1}:\n",
       " PyObject <matplotlib.lines.Line2D object at 0x7f3ccf84c110>"
      ]
     },
     "execution_count": 30,
     "metadata": {},
     "output_type": "execute_result"
    }
   ],
   "source": [
    "plot(λ2_set, v2_set)"
   ]
  },
  {
   "cell_type": "code",
   "execution_count": 31,
   "metadata": {},
   "outputs": [
    {
     "name": "stdout",
     "output_type": "stream",
     "text": [
      "λ2 = 0.0037\n",
      "logloss(x2,test_f,test_s) = 0.6961375012799439\n"
     ]
    }
   ],
   "source": [
    "ind = indmin(v2_set);\n",
    "λ2 = λ2_set[ind];\n",
    "x2 = x2_set[ind];\n",
    "@show λ2\n",
    "@show logloss(x2, test_f, test_s);"
   ]
  },
  {
   "cell_type": "code",
   "execution_count": null,
   "metadata": {
    "collapsed": true
   },
   "outputs": [],
   "source": []
  }
 ],
 "metadata": {
  "kernelspec": {
   "display_name": "Julia 0.5.2",
   "language": "julia",
   "name": "julia-0.5"
  },
  "language_info": {
   "file_extension": ".jl",
   "mimetype": "application/julia",
   "name": "julia",
   "version": "0.5.2"
  }
 },
 "nbformat": 4,
 "nbformat_minor": 2
}
